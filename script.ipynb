{
 "cells": [
  {
   "cell_type": "code",
   "execution_count": 1,
   "metadata": {},
   "outputs": [
    {
     "name": "stderr",
     "output_type": "stream",
     "text": [
      "/home/cheko/mambaforge/envs/myenv/lib/python3.9/site-packages/pandas/core/computation/expressions.py:21: UserWarning: Pandas requires version '2.8.4' or newer of 'numexpr' (version '2.7.3' currently installed).\n",
      "  from pandas.core.computation.check import NUMEXPR_INSTALLED\n"
     ]
    }
   ],
   "source": [
    "import pandas as pd\n",
    "import numpy as np\n",
    "from sklearn.model_selection import StratifiedKFold, KFold\n",
    "import seaborn as sns\n",
    "from sklearn.linear_model import LogisticRegression, LinearRegression\n",
    "import matplotlib.pyplot as plt\n",
    "from sklearn.linear_model import LogisticRegression, Lasso\n",
    "from sklearn.metrics import accuracy_score , mean_squared_error\n",
    "from sklearn.model_selection import RepeatedStratifiedKFold\n",
    "from sklearn.preprocessing import StandardScaler\n",
    "from sklearn.metrics import r2_score"
   ]
  },
  {
   "cell_type": "code",
   "execution_count": 2,
   "metadata": {},
   "outputs": [],
   "source": [
    "outcomes = pd.read_excel('BMAC_outcomes w pain scores.xlsx', index_col=0)"
   ]
  },
  {
   "cell_type": "code",
   "execution_count": 3,
   "metadata": {},
   "outputs": [],
   "source": [
    "valid_outcome_ids = {}\n",
    "to_keep = []\n",
    "class_mapper = {'Y': 1, 'N': 0}\n",
    "for n, i in outcomes.iterrows():\n",
    "    if i['Responder (Y/N)'] in ['Y', 'N']:\n",
    "        valid_outcome_ids[i['Donor ID']] = [i['Donor ID'], class_mapper[i['Responder (Y/N)']], i['change VAS'], i['change KOOS'], i['VAS baseline'], i['VAS 12 months'], i['KOOS pain baseline'], i['KOOS pain 12 months']]\n",
    "#outcomes = outcomes.iloc[to_keep, : ]\n"
   ]
  },
  {
   "cell_type": "code",
   "execution_count": 4,
   "metadata": {},
   "outputs": [
    {
     "data": {
      "text/html": [
       "<div>\n",
       "<style scoped>\n",
       "    .dataframe tbody tr th:only-of-type {\n",
       "        vertical-align: middle;\n",
       "    }\n",
       "\n",
       "    .dataframe tbody tr th {\n",
       "        vertical-align: top;\n",
       "    }\n",
       "\n",
       "    .dataframe thead th {\n",
       "        text-align: right;\n",
       "    }\n",
       "</style>\n",
       "<table border=\"1\" class=\"dataframe\">\n",
       "  <thead>\n",
       "    <tr style=\"text-align: right;\">\n",
       "      <th></th>\n",
       "      <th>donor ID</th>\n",
       "      <th>responder</th>\n",
       "      <th>cVAS</th>\n",
       "      <th>cKOOS</th>\n",
       "      <th>VAS baseline</th>\n",
       "      <th>VAS 12</th>\n",
       "      <th>KOOS baseline</th>\n",
       "      <th>KOOS 12</th>\n",
       "    </tr>\n",
       "  </thead>\n",
       "  <tbody>\n",
       "    <tr>\n",
       "      <th>0</th>\n",
       "      <td>01-004</td>\n",
       "      <td>1</td>\n",
       "      <td>-38.0</td>\n",
       "      <td>20.0</td>\n",
       "      <td>45.0</td>\n",
       "      <td>7.0</td>\n",
       "      <td>58.0</td>\n",
       "      <td>78.0</td>\n",
       "    </tr>\n",
       "    <tr>\n",
       "      <th>1</th>\n",
       "      <td>01-016</td>\n",
       "      <td>1</td>\n",
       "      <td>-51.0</td>\n",
       "      <td>33.0</td>\n",
       "      <td>91.0</td>\n",
       "      <td>40.0</td>\n",
       "      <td>25.0</td>\n",
       "      <td>58.0</td>\n",
       "    </tr>\n",
       "    <tr>\n",
       "      <th>2</th>\n",
       "      <td>01-022</td>\n",
       "      <td>1</td>\n",
       "      <td>0.0</td>\n",
       "      <td>-3.0</td>\n",
       "      <td>50.0</td>\n",
       "      <td>50.0</td>\n",
       "      <td>61.0</td>\n",
       "      <td>58.0</td>\n",
       "    </tr>\n",
       "    <tr>\n",
       "      <th>3</th>\n",
       "      <td>01-041</td>\n",
       "      <td>0</td>\n",
       "      <td>2.0</td>\n",
       "      <td>11.0</td>\n",
       "      <td>48.0</td>\n",
       "      <td>50.0</td>\n",
       "      <td>53.0</td>\n",
       "      <td>64.0</td>\n",
       "    </tr>\n",
       "    <tr>\n",
       "      <th>4</th>\n",
       "      <td>01-054</td>\n",
       "      <td>1</td>\n",
       "      <td>-44.0</td>\n",
       "      <td>48.0</td>\n",
       "      <td>50.0</td>\n",
       "      <td>6.0</td>\n",
       "      <td>44.0</td>\n",
       "      <td>92.0</td>\n",
       "    </tr>\n",
       "    <tr>\n",
       "      <th>5</th>\n",
       "      <td>01-061</td>\n",
       "      <td>1</td>\n",
       "      <td>-26.0</td>\n",
       "      <td>36.0</td>\n",
       "      <td>70.0</td>\n",
       "      <td>44.0</td>\n",
       "      <td>33.0</td>\n",
       "      <td>69.0</td>\n",
       "    </tr>\n",
       "    <tr>\n",
       "      <th>6</th>\n",
       "      <td>01-101</td>\n",
       "      <td>1</td>\n",
       "      <td>-20.0</td>\n",
       "      <td>22.0</td>\n",
       "      <td>50.0</td>\n",
       "      <td>30.0</td>\n",
       "      <td>53.0</td>\n",
       "      <td>75.0</td>\n",
       "    </tr>\n",
       "    <tr>\n",
       "      <th>7</th>\n",
       "      <td>01-102</td>\n",
       "      <td>0</td>\n",
       "      <td>-10.0</td>\n",
       "      <td>3.0</td>\n",
       "      <td>90.0</td>\n",
       "      <td>80.0</td>\n",
       "      <td>33.0</td>\n",
       "      <td>36.0</td>\n",
       "    </tr>\n",
       "    <tr>\n",
       "      <th>8</th>\n",
       "      <td>01-118</td>\n",
       "      <td>0</td>\n",
       "      <td>-20.0</td>\n",
       "      <td>11.0</td>\n",
       "      <td>80.0</td>\n",
       "      <td>60.0</td>\n",
       "      <td>36.0</td>\n",
       "      <td>47.0</td>\n",
       "    </tr>\n",
       "    <tr>\n",
       "      <th>9</th>\n",
       "      <td>01-136</td>\n",
       "      <td>1</td>\n",
       "      <td>-35.0</td>\n",
       "      <td>23.0</td>\n",
       "      <td>56.0</td>\n",
       "      <td>21.0</td>\n",
       "      <td>58.0</td>\n",
       "      <td>81.0</td>\n",
       "    </tr>\n",
       "    <tr>\n",
       "      <th>10</th>\n",
       "      <td>01-142</td>\n",
       "      <td>1</td>\n",
       "      <td>-45.0</td>\n",
       "      <td>31.0</td>\n",
       "      <td>50.0</td>\n",
       "      <td>5.0</td>\n",
       "      <td>61.0</td>\n",
       "      <td>92.0</td>\n",
       "    </tr>\n",
       "    <tr>\n",
       "      <th>11</th>\n",
       "      <td>01-144</td>\n",
       "      <td>1</td>\n",
       "      <td>-30.0</td>\n",
       "      <td>47.0</td>\n",
       "      <td>30.0</td>\n",
       "      <td>0.0</td>\n",
       "      <td>53.0</td>\n",
       "      <td>100.0</td>\n",
       "    </tr>\n",
       "    <tr>\n",
       "      <th>12</th>\n",
       "      <td>01-155</td>\n",
       "      <td>1</td>\n",
       "      <td>-60.0</td>\n",
       "      <td>52.0</td>\n",
       "      <td>60.0</td>\n",
       "      <td>0.0</td>\n",
       "      <td>42.0</td>\n",
       "      <td>94.0</td>\n",
       "    </tr>\n",
       "    <tr>\n",
       "      <th>13</th>\n",
       "      <td>02-026</td>\n",
       "      <td>1</td>\n",
       "      <td>-30.0</td>\n",
       "      <td>33.0</td>\n",
       "      <td>70.0</td>\n",
       "      <td>40.0</td>\n",
       "      <td>36.0</td>\n",
       "      <td>69.0</td>\n",
       "    </tr>\n",
       "    <tr>\n",
       "      <th>14</th>\n",
       "      <td>02-027</td>\n",
       "      <td>1</td>\n",
       "      <td>-35.0</td>\n",
       "      <td>33.0</td>\n",
       "      <td>40.0</td>\n",
       "      <td>5.0</td>\n",
       "      <td>67.0</td>\n",
       "      <td>100.0</td>\n",
       "    </tr>\n",
       "    <tr>\n",
       "      <th>15</th>\n",
       "      <td>02-038</td>\n",
       "      <td>1</td>\n",
       "      <td>-40.0</td>\n",
       "      <td>42.0</td>\n",
       "      <td>60.0</td>\n",
       "      <td>20.0</td>\n",
       "      <td>47.0</td>\n",
       "      <td>89.0</td>\n",
       "    </tr>\n",
       "    <tr>\n",
       "      <th>16</th>\n",
       "      <td>02-043</td>\n",
       "      <td>1</td>\n",
       "      <td>-30.0</td>\n",
       "      <td>25.0</td>\n",
       "      <td>70.0</td>\n",
       "      <td>40.0</td>\n",
       "      <td>53.0</td>\n",
       "      <td>78.0</td>\n",
       "    </tr>\n",
       "    <tr>\n",
       "      <th>17</th>\n",
       "      <td>02-089</td>\n",
       "      <td>0</td>\n",
       "      <td>40.0</td>\n",
       "      <td>3.0</td>\n",
       "      <td>30.0</td>\n",
       "      <td>70.0</td>\n",
       "      <td>67.0</td>\n",
       "      <td>70.0</td>\n",
       "    </tr>\n",
       "    <tr>\n",
       "      <th>18</th>\n",
       "      <td>02-156</td>\n",
       "      <td>1</td>\n",
       "      <td>-24.0</td>\n",
       "      <td>25.0</td>\n",
       "      <td>44.0</td>\n",
       "      <td>20.0</td>\n",
       "      <td>50.0</td>\n",
       "      <td>75.0</td>\n",
       "    </tr>\n",
       "  </tbody>\n",
       "</table>\n",
       "</div>"
      ],
      "text/plain": [
       "   donor ID  responder  cVAS  cKOOS  VAS baseline  VAS 12  KOOS baseline  \\\n",
       "0    01-004          1 -38.0   20.0          45.0     7.0           58.0   \n",
       "1    01-016          1 -51.0   33.0          91.0    40.0           25.0   \n",
       "2    01-022          1   0.0   -3.0          50.0    50.0           61.0   \n",
       "3    01-041          0   2.0   11.0          48.0    50.0           53.0   \n",
       "4    01-054          1 -44.0   48.0          50.0     6.0           44.0   \n",
       "5    01-061          1 -26.0   36.0          70.0    44.0           33.0   \n",
       "6    01-101          1 -20.0   22.0          50.0    30.0           53.0   \n",
       "7    01-102          0 -10.0    3.0          90.0    80.0           33.0   \n",
       "8    01-118          0 -20.0   11.0          80.0    60.0           36.0   \n",
       "9    01-136          1 -35.0   23.0          56.0    21.0           58.0   \n",
       "10   01-142          1 -45.0   31.0          50.0     5.0           61.0   \n",
       "11   01-144          1 -30.0   47.0          30.0     0.0           53.0   \n",
       "12   01-155          1 -60.0   52.0          60.0     0.0           42.0   \n",
       "13   02-026          1 -30.0   33.0          70.0    40.0           36.0   \n",
       "14   02-027          1 -35.0   33.0          40.0     5.0           67.0   \n",
       "15   02-038          1 -40.0   42.0          60.0    20.0           47.0   \n",
       "16   02-043          1 -30.0   25.0          70.0    40.0           53.0   \n",
       "17   02-089          0  40.0    3.0          30.0    70.0           67.0   \n",
       "18   02-156          1 -24.0   25.0          44.0    20.0           50.0   \n",
       "\n",
       "    KOOS 12  \n",
       "0      78.0  \n",
       "1      58.0  \n",
       "2      58.0  \n",
       "3      64.0  \n",
       "4      92.0  \n",
       "5      69.0  \n",
       "6      75.0  \n",
       "7      36.0  \n",
       "8      47.0  \n",
       "9      81.0  \n",
       "10     92.0  \n",
       "11    100.0  \n",
       "12     94.0  \n",
       "13     69.0  \n",
       "14    100.0  \n",
       "15     89.0  \n",
       "16     78.0  \n",
       "17     70.0  \n",
       "18     75.0  "
      ]
     },
     "execution_count": 4,
     "metadata": {},
     "output_type": "execute_result"
    }
   ],
   "source": [
    "outcomes = [valid_outcome_ids[x] for x in valid_outcome_ids]\n",
    "df_outcomes = pd.DataFrame(outcomes, columns = [\"donor ID\", \"responder\", \"cVAS\", \"cKOOS\", \"VAS baseline\", \"VAS 12\", \"KOOS baseline\", \"KOOS 12\"])\n",
    "df_outcomes"
   ]
  },
  {
   "cell_type": "code",
   "execution_count": 5,
   "metadata": {},
   "outputs": [
    {
     "data": {
      "text/plain": [
       "<matplotlib.collections.PathCollection at 0x7fdbe4a8ea90>"
      ]
     },
     "execution_count": 5,
     "metadata": {},
     "output_type": "execute_result"
    },
    {
     "data": {
      "image/png": "[encoded data removed]",
      "text/plain": [
       "<Figure size 640x480 with 1 Axes>"
      ]
     },
     "metadata": {},
     "output_type": "display_data"
    }
   ],
   "source": [
    "plt.scatter(df_outcomes[\"VAS baseline\"], df_outcomes[\"VAS 12\"], c = df_outcomes['responder'])"
   ]
  },
  {
   "cell_type": "code",
   "execution_count": 6,
   "metadata": {},
   "outputs": [],
   "source": [
    "df_noout = df_outcomes.iloc[list(set(list(range(19))).difference([17, 1]))]"
   ]
  },
  {
   "cell_type": "code",
   "execution_count": 7,
   "metadata": {},
   "outputs": [
    {
     "data": {
      "text/plain": [
       "<matplotlib.collections.PathCollection at 0x7fdbe49cf910>"
      ]
     },
     "execution_count": 7,
     "metadata": {},
     "output_type": "execute_result"
    },
    {
     "data": {
      "image/png": "[encoded data removed]",
      "text/plain": [
       "<Figure size 640x480 with 1 Axes>"
      ]
     },
     "metadata": {},
     "output_type": "display_data"
    }
   ],
   "source": [
    "plt.scatter(df_noout[\"VAS baseline\"], df_noout[\"VAS 12\"], c = df_noout['responder'])"
   ]
  },
  {
   "cell_type": "code",
   "execution_count": 8,
   "metadata": {},
   "outputs": [
    {
     "data": {
      "text/plain": [
       "<matplotlib.collections.PathCollection at 0x7fdbe494ffa0>"
      ]
     },
     "execution_count": 8,
     "metadata": {},
     "output_type": "execute_result"
    },
    {
     "data": {
      "image/png": "[encoded data removed]",
      "text/plain": [
       "<Figure size 640x480 with 1 Axes>"
      ]
     },
     "metadata": {},
     "output_type": "display_data"
    }
   ],
   "source": [
    "plt.scatter(df_noout[\"KOOS baseline\"], df_noout[\"KOOS 12\"], c = df_noout['responder'])"
   ]
  },
  {
   "cell_type": "code",
   "execution_count": 9,
   "metadata": {},
   "outputs": [
    {
     "data": {
      "image/png": "[encoded data removed]",
      "text/plain": [
       "<Figure size 640x480 with 1 Axes>"
      ]
     },
     "metadata": {},
     "output_type": "display_data"
    },
    {
     "data": {
      "image/png": "[encoded data removed]",
      "text/plain": [
       "<Figure size 640x480 with 1 Axes>"
      ]
     },
     "metadata": {},
     "output_type": "display_data"
    }
   ],
   "source": [
    "sns.boxplot(df_outcomes, x='responder', y='cVAS', hue='responder')\n",
    "plt.show()\n",
    "\n",
    "sns.boxplot(df_outcomes, x='responder', y='cKOOS', hue='responder')\n",
    "plt.show()"
   ]
  },
  {
   "cell_type": "code",
   "execution_count": 10,
   "metadata": {},
   "outputs": [],
   "source": [
    "data = pd.read_excel('BMAC.xlsx', sheet_name = 'On-chip ctrl NORM')"
   ]
  },
  {
   "cell_type": "code",
   "execution_count": 11,
   "metadata": {},
   "outputs": [],
   "source": [
    "rows = []\n",
    "classes = []\n",
    "vas = []\n",
    "koos = []\n",
    "for n, i in data.iterrows():\n",
    "    if i['Samples'][-1] == \"1\" and i['Samples'].split()[0] in list(valid_outcome_ids.keys()):\n",
    "        rows.append(n)\n",
    "        classes.append(valid_outcome_ids[i['Donor ID']][0])\n",
    "        vas.append(valid_outcome_ids[i['Donor ID']][1])\n",
    "        koos.append(valid_outcome_ids[i['Donor ID']][2])\n",
    "        "
   ]
  },
  {
   "cell_type": "code",
   "execution_count": 12,
   "metadata": {},
   "outputs": [],
   "source": [
    "features = [\"TNF-alpha\" ,\"IL-6\" ,\"PD-L1\" ,\"MMP-3\" ,\"IL-8\" ,\"MMP-1\" ,\"FAP\" ,\"CCL2/MCP-1\" ,\"VEGF\" ,\"IFN-gamma\" ,\"IL-17E\" ,\"MMP-13\" ,\"HGF\" ,\"CCL3/MIP-1 alpha\" ,\"IL-17\" ,\"FGF basic\" ,\"M-CSF\" ,\"CXCL9/MIG\" ,\"IL-12 p70\" ,\"VCAM-1\" ,\"ICAM-1\" ,\"TNF R1\" ,\"TIMP-1\" ,\"IGFBP-rp1\"]"
   ]
  },
  {
   "cell_type": "code",
   "execution_count": 13,
   "metadata": {},
   "outputs": [],
   "source": [
    "data = data.iloc[rows, :]\n",
    "data = data.loc[ : , features]"
   ]
  },
  {
   "cell_type": "markdown",
   "metadata": {},
   "source": [
    "# KOOS Modelling"
   ]
  },
  {
   "cell_type": "code",
   "execution_count": 14,
   "metadata": {},
   "outputs": [],
   "source": [
    "outcomes = pd.read_excel('BMAC_outcomes w pain scores.xlsx', index_col=0)\n",
    "valid_outcome_ids = {}\n",
    "to_keep = []\n",
    "class_mapper = {'Y': 1, 'N': 0}\n",
    "for n, i in outcomes.iterrows():\n",
    "    if i['Responder (Y/N)'] in ['Y', 'N']:\n",
    "        if i['Donor ID'] != \"02-089\" and i['Donor ID'] != \"01-016\":\n",
    "            valid_outcome_ids[i['Donor ID']] = [i['Donor ID'], class_mapper[i['Responder (Y/N)']], i['change VAS'], i['change KOOS'], i['VAS baseline'], i['VAS 12 months'], i['KOOS pain baseline'], i['KOOS pain 12 months']]\n",
    "#outcomes = outcomes.iloc[to_keep, : ]\n"
   ]
  },
  {
   "cell_type": "code",
   "execution_count": 15,
   "metadata": {},
   "outputs": [
    {
     "name": "stdout",
     "output_type": "stream",
     "text": [
      "On-chip ctrl NORM : 3 Fold 150 Repeats MSE 1.1064306222528262\n",
      "On-chip simSF NORM : 3 Fold 150 Repeats MSE 1.1064306222528262\n",
      "2D simSF NORM : 3 Fold 150 Repeats MSE 1.1064866298585503\n"
     ]
    }
   ],
   "source": [
    "features = [\"TNF-alpha\" ,\"IL-6\" ,\"PD-L1\" ,\"MMP-3\" ,\"IL-8\" ,\"MMP-1\" ,\"FAP\" ,\"CCL2/MCP-1\" ,\"VEGF\" ,\"IFN-gamma\" ,\"IL-17E\" ,\"MMP-13\" ,\"HGF\" ,\"CCL3/MIP-1 alpha\" ,\"IL-17\" ,\"FGF basic\" ,\"M-CSF\" ,\"CXCL9/MIG\" ,\"IL-12 p70\" ,\"VCAM-1\" ,\"ICAM-1\" ,\"TNF R1\" ,\"TIMP-1\" ,\"IGFBP-rp1\"]\n",
    "\n",
    "for method in ['On-chip ctrl NORM', 'On-chip simSF NORM', '2D simSF NORM']:\n",
    "    data = pd.read_excel('BMAC.xlsx', sheet_name = method)\n",
    "    rows = []\n",
    "    classes = []\n",
    "    vas = []\n",
    "    koos = []\n",
    "    for n, i in data.iterrows():\n",
    "        if i['Samples'][-1] == \"1\" and i['Samples'].split()[0] in list(valid_outcome_ids.keys()):\n",
    "            rows.append(n)\n",
    "            classes.append(valid_outcome_ids[i['Donor ID']][1])\n",
    "            vas.append(valid_outcome_ids[i['Donor ID']][2])\n",
    "            koos.append(valid_outcome_ids[i['Donor ID']][3])\n",
    "    data = data.iloc[rows, :]\n",
    "    data = data.loc[ : , features]\n",
    "    data = StandardScaler().fit_transform(data)\n",
    "    koos = StandardScaler().fit_transform(np.array(koos).reshape(-1, 1))\n",
    "    data = np.array(data)\n",
    "    classes = np.array(classes)\n",
    "    folds = 3\n",
    "    repeats = 150\n",
    "    mses = []\n",
    "    rskf = RepeatedStratifiedKFold(n_splits= folds, n_repeats= repeats, random_state=36851234)\n",
    "    for n, (train_index, test_index) in enumerate(rskf.split(data, classes)):\n",
    "        X_train, X_test = [data[i] for i in train_index], [data[i] for i in test_index]\n",
    "        y_train, y_test = [koos[i] for i in train_index], [koos[i] for i in test_index]\n",
    "        model = Lasso()\n",
    "        model.fit(X_train, y_train)\n",
    "        y_pred = model.predict(X_test)\n",
    "        mses.append(mean_squared_error(y_test, y_pred))\n",
    "    # plt.show()\n",
    "    print(f\"{method} : 3 Fold 150 Repeats MSE\", np.mean(mses))\n",
    "\n"
   ]
  },
  {
   "cell_type": "markdown",
   "metadata": {},
   "source": [
    "# VAS Modelling"
   ]
  },
  {
   "cell_type": "code",
   "execution_count": 19,
   "metadata": {},
   "outputs": [],
   "source": [
    "outcomes = pd.read_excel('BMAC_outcomes w pain scores.xlsx', index_col=0)"
   ]
  },
  {
   "cell_type": "code",
   "execution_count": 20,
   "metadata": {},
   "outputs": [],
   "source": [
    "valid_outcome_ids = {}\n",
    "to_keep = []\n",
    "class_mapper = {'Y': 1, 'N': 0}\n",
    "for n, i in outcomes.iterrows():\n",
    "    if i['Responder (Y/N)'] in ['Y', 'N']:\n",
    "        if i['Donor ID'] != \"02-089\" and i['Donor ID'] != \"01-016\":\n",
    "            valid_outcome_ids[i['Donor ID']] = [class_mapper[i['Responder (Y/N)']], i['change VAS'], i['change KOOS']]\n",
    "#outcomes = outcomes.iloc[to_keep, : ]\n"
   ]
  },
  {
   "cell_type": "code",
   "execution_count": 21,
   "metadata": {},
   "outputs": [
    {
     "name": "stdout",
     "output_type": "stream",
     "text": [
      "On-chip ctrl NORM : 3 Fold 150 Repeats MSE 1.1129398073671493\n",
      "On-chip simSF NORM : 3 Fold 150 Repeats MSE 1.1129398073671493\n",
      "2D simSF NORM : 3 Fold 150 Repeats MSE 1.1129398073671493\n"
     ]
    }
   ],
   "source": [
    "features = [\"TNF-alpha\" ,\"IL-6\" ,\"PD-L1\" ,\"MMP-3\" ,\"IL-8\" ,\"MMP-1\" ,\"FAP\" ,\"CCL2/MCP-1\" ,\"VEGF\" ,\"IFN-gamma\" ,\"IL-17E\" ,\"MMP-13\" ,\"HGF\" ,\"CCL3/MIP-1 alpha\" ,\"IL-17\" ,\"FGF basic\" ,\"M-CSF\" ,\"CXCL9/MIG\" ,\"IL-12 p70\" ,\"VCAM-1\" ,\"ICAM-1\" ,\"TNF R1\" ,\"TIMP-1\" ,\"IGFBP-rp1\"]\n",
    "\n",
    "for method in ['On-chip ctrl NORM', 'On-chip simSF NORM', '2D simSF NORM']:\n",
    "    data = pd.read_excel('BMAC.xlsx', sheet_name = method)\n",
    "    rows = []\n",
    "    classes = []\n",
    "    vas = []\n",
    "    koos = []\n",
    "    for n, i in data.iterrows():\n",
    "        if i['Samples'][-1] == \"1\" and i['Samples'].split()[0] in list(valid_outcome_ids.keys()):\n",
    "            rows.append(n)\n",
    "            classes.append(valid_outcome_ids[i['Donor ID']][0])\n",
    "            vas.append(valid_outcome_ids[i['Donor ID']][1])\n",
    "            koos.append(valid_outcome_ids[i['Donor ID']][2])\n",
    "    data = data.iloc[rows, :]\n",
    "    data = data.loc[ : , features]\n",
    "    data[:] = StandardScaler().fit_transform(data)\n",
    "    vas[:] = StandardScaler().fit_transform(np.array(vas).reshape(-1, 1))\n",
    "    vas = np.array(vas)\n",
    "    folds = 3\n",
    "    repeats = 150\n",
    "    mses = []\n",
    "    rskf = RepeatedStratifiedKFold(n_splits= folds, n_repeats= repeats, random_state=36851234)\n",
    "    data = data.reset_index(drop=True)\n",
    "    for n, (train_index, test_index) in enumerate(rskf.split(data, classes)):\n",
    "        X_train, X_test = data.iloc[train_index], data.iloc[test_index]\n",
    "        y_train, y_test = vas[train_index], vas[test_index]\n",
    "        correlation = X_train.corrwith(pd.Series(y_train.flatten()))\n",
    "        correlation_sorted = correlation.abs().sort_values(ascending=False)\n",
    "        # Get top 5 most correlated columns\n",
    "        top_corr_features = correlation_sorted.head(5).index.values\n",
    "        model = Lasso()\n",
    "        model.fit(X_train[top_corr_features], y_train)\n",
    "        y_pred = model.predict(X_test[top_corr_features])\n",
    "        mses.append(mean_squared_error(y_test, y_pred))\n",
    "    # plt.show()\n",
    "    print(f\"{method} : 3 Fold 150 Repeats MSE\", np.mean(mses))\n",
    "\n"
   ]
  },
  {
   "cell_type": "markdown",
   "metadata": {},
   "source": [
    "# Modelling using topk most predictive and most correlated features"
   ]
  },
  {
   "cell_type": "code",
   "execution_count": null,
   "metadata": {},
   "outputs": [],
   "source": [
    "data_method = []\n",
    "features = [\"TNF-alpha\" ,\"IL-6\" ,\"PD-L1\" ,\"MMP-3\" ,\"IL-8\" ,\"MMP-1\" ,\"FAP\" ,\"CCL2/MCP-1\" ,\"VEGF\" ,\"IFN-gamma\" ,\"IL-17E\" ,\"MMP-13\" ,\"HGF\" ,\"CCL3/MIP-1 alpha\" ,\"IL-17\" ,\"FGF basic\" ,\"M-CSF\" ,\"CXCL9/MIG\" ,\"IL-12 p70\" ,\"VCAM-1\" ,\"ICAM-1\" ,\"TNF R1\" ,\"TIMP-1\" ,\"IGFBP-rp1\"]\n",
    "\n",
    "for method in ['On-chip ctrl NORM', 'On-chip simSF NORM', '2D simSF NORM']:\n",
    "    data = pd.read_excel('BMAC.xlsx', sheet_name = method)\n",
    "    rows = []\n",
    "    classes = []\n",
    "    vas = []\n",
    "    koos = []\n",
    "    for n, i in data.iterrows():\n",
    "        if i['Samples'][-1] == \"1\" and i['Samples'].split()[0] in list(valid_outcome_ids.keys()):\n",
    "            rows.append(n)\n",
    "            classes.append(valid_outcome_ids[i['Donor ID']][1])\n",
    "            vas.append(valid_outcome_ids[i['Donor ID']][2])\n",
    "            koos.append(valid_outcome_ids[i['Donor ID']][3])\n",
    "    data = data.iloc[rows, :]\n",
    "    data = data.loc[ : , features]\n",
    "    data[:] = StandardScaler().fit_transform(data)\n",
    "    data_method.append(data)\n",
    "    koos = StandardScaler().fit_transform(np.array(koos).reshape(-1, 1))\n",
    "    vas = StandardScaler().fit_transform(np.array(vas).reshape(-1, 1))"
   ]
  },
  {
   "cell_type": "code",
   "execution_count": null,
   "metadata": {},
   "outputs": [
    {
     "name": "stdout",
     "output_type": "stream",
     "text": [
      "(24, 3, 1)\n",
      "(276, 3, 2)\n",
      "(2024, 3, 3)\n"
     ]
    }
   ],
   "source": [
    "from itertools import combinations\n",
    "\n",
    "#normal\n",
    "features = [\"TNF-alpha\" ,\"IL-6\" ,\"PD-L1\" ,\"MMP-3\" ,\"IL-8\" ,\"MMP-1\" ,\"FAP\" ,\"CCL2/MCP-1\" ,\"VEGF\" ,\"IFN-gamma\" ,\"IL-17E\" ,\"MMP-13\" ,\"HGF\" ,\"CCL3/MIP-1 alpha\" ,\"IL-17\" ,\"FGF basic\" ,\"M-CSF\" ,\"CXCL9/MIG\" ,\"IL-12 p70\" ,\"VCAM-1\" ,\"ICAM-1\" ,\"TNF R1\" ,\"TIMP-1\" ,\"IGFBP-rp1\"]\n",
    "from sklearn import linear_model\n",
    "rows_koos = []\n",
    "rows_vas = []\n",
    "for k in range(3):\n",
    "    k = k+1\n",
    "    row_koos_temp = []\n",
    "    row_koos_temp_feat = []\n",
    "    row_vas_temp = []\n",
    "    row_vas_temp_feat = []\n",
    "    for feat in list(combinations(features, k)):\n",
    "        temp1 = []\n",
    "        temp1_feat = []\n",
    "        temp2 = []\n",
    "        temp2_feat = []\n",
    "        feat = list(feat)\n",
    "        for method in ['On-chip ctrl NORM', 'On-chip simSF NORM', '2D simSF NORM']:\n",
    "            data = pd.read_excel('BMAC.xlsx', sheet_name = method)\n",
    "            rows = []\n",
    "            classes = []\n",
    "            vas = []\n",
    "            koos = []\n",
    "            for n, i in data.iterrows():\n",
    "                if i['Samples'][-1] == \"1\" and i['Samples'].split()[0] in list(valid_outcome_ids.keys()):\n",
    "                    rows.append(n)\n",
    "                    classes.append(valid_outcome_ids[i['Donor ID']][1])\n",
    "                    vas.append(valid_outcome_ids[i['Donor ID']][2])\n",
    "                    koos.append(valid_outcome_ids[i['Donor ID']][3])\n",
    "            data = data.iloc[rows, :]\n",
    "            data = data.loc[ : , feat]\n",
    "            data[:] = StandardScaler().fit_transform(data)\n",
    "            koos[:] = StandardScaler().fit_transform(np.array(koos).reshape(-1, 1))\n",
    "            vas[:] = StandardScaler().fit_transform(np.array(vas).reshape(-1, 1))\n",
    "            vas = np.array(vas)\n",
    "            koos = np.array(koos)\n",
    "            data = data.reset_index(drop=True)\n",
    "            model = linear_model.LinearRegression()\n",
    "            model.fit(data[feat], vas)\n",
    "            temp1.append(model.score(data[feat], vas))\n",
    "            temp1_feat.append(feat)\n",
    "            model.fit(data[feat], koos)\n",
    "            temp2.append(model.score(data[feat], koos))\n",
    "            temp2_feat.append(feat)\n",
    "        row_vas_temp.append(temp1)\n",
    "        row_koos_temp.append(temp2)\n",
    "        row_vas_temp_feat.append(temp1_feat)\n",
    "        row_koos_temp_feat.append(temp2_feat)\n",
    "    row_vas_temp = np.array(row_vas_temp)\n",
    "    row_koos_temp = np.array(row_koos_temp)\n",
    "    row_vas_temp_feat = np.array(row_vas_temp_feat)\n",
    "    row_koos_temp_feat = np.array(row_koos_temp_feat)\n",
    "    print(row_vas_temp_feat.shape)\n",
    "    rows_vas.append([k, np.max(row_vas_temp[:, 0]), np.max(row_vas_temp[:, 1]), np.max(row_vas_temp[:, 2]), row_vas_temp_feat[np.argmax(row_vas_temp[:, 0])], row_vas_temp_feat[np.argmax(row_vas_temp[:, 1])], row_vas_temp_feat[np.argmax(row_vas_temp[:, 2])]])\n",
    "    rows_koos.append([k, np.max(row_koos_temp[:, 0]), np.max(row_koos_temp[:, 1]), np.max(row_koos_temp[:, 2]), row_koos_temp_feat[np.argmax(row_koos_temp[:, 0])], row_koos_temp_feat[np.argmax(row_koos_temp[:, 1])], row_koos_temp_feat[np.argmax(row_koos_temp[:, 2])]])"
   ]
  },
  {
   "cell_type": "code",
   "execution_count": null,
   "metadata": {},
   "outputs": [],
   "source": [
    "df_topk_koos = pd.DataFrame(rows_koos, columns = ['k', 'On-chip ctrl NORM', 'On-chip simSF NORM', '2D simSF NORM', 'On-chip ctrl NORM Features', 'On-chip simSF NORM Features', '2D simSF NORM Features'])\n",
    "df_topk_vas = pd.DataFrame(rows_vas, columns = ['k', 'On-chip ctrl NORM', 'On-chip simSF NORM', '2D simSF NORM', 'On-chip ctrl NORM Features', 'On-chip simSF NORM Features', '2D simSF NORM Features'])"
   ]
  },
  {
   "cell_type": "code",
   "execution_count": null,
   "metadata": {},
   "outputs": [
    {
     "name": "stdout",
     "output_type": "stream",
     "text": [
      "[1, 0.24051466043457548, 0.2705139035642219, 0.1560356856013264]\n",
      "[2, 0.2803394768899926, 0.31133509731134357, 0.19443277538401482]\n",
      "[3, 0.41508681026699934, 0.3158924068763619, 0.2684446454058459]\n"
     ]
    }
   ],
   "source": [
    "features = [\"TNF-alpha\" ,\"IL-6\" ,\"PD-L1\" ,\"MMP-3\" ,\"IL-8\" ,\"MMP-1\" ,\"FAP\" ,\"CCL2/MCP-1\" ,\"VEGF\" ,\"IFN-gamma\" ,\"IL-17E\" ,\"MMP-13\" ,\"HGF\" ,\"CCL3/MIP-1 alpha\" ,\"IL-17\" ,\"FGF basic\" ,\"M-CSF\" ,\"CXCL9/MIG\" ,\"IL-12 p70\" ,\"VCAM-1\" ,\"ICAM-1\" ,\"TNF R1\" ,\"TIMP-1\" ,\"IGFBP-rp1\"]\n",
    "from sklearn import linear_model\n",
    "rows_koos = []\n",
    "rows_vas = []\n",
    "for num in range(3):\n",
    "    num = num+1\n",
    "    temp1 = [num]\n",
    "    temp2 = [num]\n",
    "    for method in ['On-chip ctrl NORM', 'On-chip simSF NORM', '2D simSF NORM']:\n",
    "        data = pd.read_excel('BMAC.xlsx', sheet_name = method)\n",
    "        rows = []\n",
    "        classes = []\n",
    "        vas = []\n",
    "        koos = []\n",
    "        for n, i in data.iterrows():\n",
    "            if i['Samples'][-1] == \"1\" and i['Samples'].split()[0] in list(valid_outcome_ids.keys()):\n",
    "                rows.append(n)\n",
    "                classes.append(valid_outcome_ids[i['Donor ID']][1])\n",
    "                vas.append(valid_outcome_ids[i['Donor ID']][2])\n",
    "                koos.append(valid_outcome_ids[i['Donor ID']][3])\n",
    "        data = data.iloc[rows, :]\n",
    "        data = data.loc[ : , features]\n",
    "        data[:] = StandardScaler().fit_transform(data)\n",
    "        koos[:] = StandardScaler().fit_transform(np.array(koos).reshape(-1, 1))\n",
    "        vas[:] = StandardScaler().fit_transform(np.array(vas).reshape(-1, 1))\n",
    "        vas = np.array(vas)\n",
    "        koos = np.array(koos)\n",
    "        data = data.reset_index(drop=True)\n",
    "        correlation = data.corrwith(pd.Series(vas.flatten()), method=\"spearman\")\n",
    "        correlation_sorted = correlation.abs().sort_values(ascending=False)\n",
    "        top_corr_features = correlation_sorted.head(num+1).index.values\n",
    "        model = linear_model.LinearRegression()\n",
    "        model.fit(data[top_corr_features], vas)\n",
    "        y_pred = model.predict(data[top_corr_features])\n",
    "        temp1.append(r2_score(vas, y_pred))\n",
    "        correlation = data.corrwith(pd.Series(koos.flatten()), method=\"spearman\")\n",
    "        correlation_sorted = correlation.abs().sort_values(ascending=False)\n",
    "        top_corr_features = correlation_sorted.head(num+1).index.values\n",
    "        model.fit(data[top_corr_features], koos)\n",
    "        y_pred = model.predict(data[top_corr_features])\n",
    "        temp2.append(r2_score(koos, y_pred))\n",
    "    rows_vas.append(temp1)\n",
    "    rows_koos.append(temp2)\n",
    "    print(rows_vas[-1])\n",
    "    # print(num, temp1, temp2)\n",
    "# print(np.mean(rows_vas, axis = 0))\n",
    "# print(np.mean(rows_koos, axis = 0))"
   ]
  },
  {
   "cell_type": "code",
   "execution_count": null,
   "metadata": {},
   "outputs": [],
   "source": [
    "df_corr_koos = pd.DataFrame(rows_koos, columns = ['k', 'On-chip ctrl NORM', 'On-chip simSF NORM', '2D simSF NORM'])\n",
    "df_corr_vas = pd.DataFrame(rows_vas, columns = ['k', 'On-chip ctrl NORM', 'On-chip simSF NORM', '2D simSF NORM'])"
   ]
  },
  {
   "cell_type": "code",
   "execution_count": null,
   "metadata": {},
   "outputs": [],
   "source": [
    "with pd.ExcelWriter('BMAC_corr_and_topk.xlsx') as writer:\n",
    "    df_corr_koos.to_excel(writer, sheet_name='corr_koos', index=None)\n",
    "    df_corr_vas.to_excel(writer, sheet_name='corr_vas', index=None)\n",
    "    df_topk_koos.to_excel(writer, sheet_name='topk_koos', index=None)\n",
    "    df_topk_vas.to_excel(writer, sheet_name='topk_vas', index=None)"
   ]
  }
 ],
 "metadata": {
  "kernelspec": {
   "display_name": "myenv",
   "language": "python",
   "name": "python3"
  },
  "language_info": {
   "codemirror_mode": {
    "name": "ipython",
    "version": 3
   },
   "file_extension": ".py",
   "mimetype": "text/x-python",
   "name": "python",
   "nbconvert_exporter": "python",
   "pygments_lexer": "ipython3",
   "version": "3.9.16"
  }
 },
 "nbformat": 4,
 "nbformat_minor": 2
}
